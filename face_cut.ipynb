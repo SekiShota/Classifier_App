{
 "cells": [
  {
   "cell_type": "markdown",
   "id": "32ab6c76",
   "metadata": {},
   "source": [
    "### Dlibで顔部分の抽出"
   ]
  },
  {
   "cell_type": "code",
   "execution_count": null,
   "id": "634e3874",
   "metadata": {},
   "outputs": [],
   "source": [
    "#Dlibで顔部分を切り抜き\n",
    "import cv2, dlib, sys, glob, pprint\n",
    "\n",
    "#入力ディレクトリ指定\n",
    "in_dir1=\"./images/figure0/\"\n",
    "in_dir2=\"./images/figure1/\"\n",
    "\n",
    "#出力ディレクトリ指定\n",
    "out_dir1=\"./images/face0/\"\n",
    "out_dir2=\"./images/face1/\"\n",
    "\n",
    "#画像のID\n",
    "fid=1000\n",
    "\n",
    "#入力画像をリサイズするか\n",
    "flag_resize=False\n",
    "\n",
    "#Dlibを始める\n",
    "detector=dlib.get_frontal_face_detector()\n",
    "\n",
    "#顔画像を取得して保存\n",
    "def get_face(fname):\n",
    "    global fid\n",
    "    img=cv2.imread(fname)\n",
    "\n",
    "    #サイズが大きければリサイズ\n",
    "    if flag_resize:\n",
    "        img=cv2.resize(img, None, fx=0.2, fy=0.2,)\n",
    "\n",
    "    #顔検出\n",
    "    dets=detector(img, 1)\n",
    "    for k,d in enumerate(dets):\n",
    "        pprint.pprint(d)\n",
    "        x1=int(d.left())\n",
    "        y1=int(d.top())\n",
    "        x2=int(d.right())\n",
    "        y2=int(d.bottom())\n",
    "        im=img[y1:y2, x1:x2]\n",
    "        #64x64にリサイズ\n",
    "        try:\n",
    "            im=cv2.resize(im, (64,64))\n",
    "        except:\n",
    "            continue\n",
    "\n",
    "        #保存\n",
    "        out=out_dir2+\"/\"+str(fid)+\".jpg\"\n",
    "        cv2.imwrite(out, im)\n",
    "        fid+=1\n",
    "\n",
    "#ファイルを列挙して繰り返し顔検出\n",
    "files=glob.glob(in_dir2+\"/*\")\n",
    "for f in files:\n",
    "    print(f)\n",
    "    get_face(f)\n",
    "print(\"ok\")\n",
    "\n"
   ]
  },
  {
   "cell_type": "code",
   "execution_count": null,
   "id": "226c82d4",
   "metadata": {},
   "outputs": [],
   "source": []
  }
 ],
 "metadata": {
  "kernelspec": {
   "display_name": "Python 3 (ipykernel)",
   "language": "python",
   "name": "python3"
  },
  "language_info": {
   "codemirror_mode": {
    "name": "ipython",
    "version": 3
   },
   "file_extension": ".py",
   "mimetype": "text/x-python",
   "name": "python",
   "nbconvert_exporter": "python",
   "pygments_lexer": "ipython3",
   "version": "3.9.13"
  }
 },
 "nbformat": 4,
 "nbformat_minor": 5
}
