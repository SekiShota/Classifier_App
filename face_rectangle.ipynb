{
 "cells": [
  {
   "cell_type": "code",
   "execution_count": 29,
   "id": "ad64b960",
   "metadata": {},
   "outputs": [],
   "source": [
    "#Dlibで顔部分を切り抜き\n",
    "import cv2, dlib, sys, glob, pprint\n",
    "import matplotlib.pyplot as plt\n",
    "\n",
    "#Dlibを始める\n",
    "detector=dlib.get_frontal_face_detector()\n",
    "\n",
    "#入力画像をリサイズするか\n",
    "flag_resize=False\n",
    "\n",
    "#顔画像を取得して保存\n",
    "def get_face_rect(fname):\n",
    "    img=cv2.imread(fname)\n",
    "\n",
    "    #サイズが大きければリサイズ\n",
    "    if flag_resize:\n",
    "        img=cv2.resize(img, None, fx=0.2, fy=0.2,)\n",
    "\n",
    "    #顔検出\n",
    "    dets=detector(img)\n",
    "    for k,d in enumerate(dets):\n",
    "        pprint.pprint(d)\n",
    "        x1=int(d.left())\n",
    "        y1=int(d.top())\n",
    "        x2=int(d.right())\n",
    "        y2=int(d.bottom())\n",
    "        im=img[y1:y2, x1:x2]\n",
    "        try:\n",
    "            im=cv2.resize(im, (64,64))\n",
    "        except:\n",
    "            continue\n",
    "        cv2.rectangle(img, (x1, y1), (x2, y2), color=(0,0,255), thickness=4)\n",
    "        \n",
    "#         plt.imshow(img)\n",
    "#         plt.show()\n",
    "        cv2.imwrite(\"test.jpg\", img)\n",
    "        \n",
    "    return im,d"
   ]
  },
  {
   "cell_type": "code",
   "execution_count": 30,
   "id": "5224623d",
   "metadata": {},
   "outputs": [
    {
     "name": "stdout",
     "output_type": "stream",
     "text": [
      "rectangle(474,233,783,542)\n"
     ]
    },
    {
     "data": {
      "text/plain": [
       "(array([[[ 41,  46,  49],\n",
       "         [ 39,  44,  47],\n",
       "         [ 43,  48,  55],\n",
       "         ...,\n",
       "         [  9,  19,  22],\n",
       "         [  7,  13,  16],\n",
       "         [ 25,  30,  33]],\n",
       " \n",
       "        [[ 45,  49,  52],\n",
       "         [ 36,  42,  45],\n",
       "         [ 50,  56,  62],\n",
       "         ...,\n",
       "         [ 18,  24,  26],\n",
       "         [  9,  16,  18],\n",
       "         [  2,  10,  14]],\n",
       " \n",
       "        [[ 44,  50,  53],\n",
       "         [ 35,  42,  45],\n",
       "         [ 54,  60,  67],\n",
       "         ...,\n",
       "         [ 11,  16,  17],\n",
       "         [ 16,  24,  25],\n",
       "         [ 18,  24,  29]],\n",
       " \n",
       "        ...,\n",
       " \n",
       "        [[221, 225, 235],\n",
       "         [226, 229, 234],\n",
       "         [216, 226, 235],\n",
       "         ...,\n",
       "         [229, 223, 224],\n",
       "         [229, 223, 224],\n",
       "         [229, 223, 224]],\n",
       " \n",
       "        [[220, 226, 233],\n",
       "         [222, 228, 235],\n",
       "         [219, 226, 237],\n",
       "         ...,\n",
       "         [229, 223, 224],\n",
       "         [229, 223, 224],\n",
       "         [229, 223, 224]],\n",
       " \n",
       "        [[222, 227, 236],\n",
       "         [222, 227, 236],\n",
       "         [220, 225, 240],\n",
       "         ...,\n",
       "         [229, 223, 224],\n",
       "         [229, 223, 224],\n",
       "         [229, 223, 224]]], dtype=uint8),\n",
       " rectangle(474,233,783,542))"
      ]
     },
     "execution_count": 30,
     "metadata": {},
     "output_type": "execute_result"
    }
   ],
   "source": [
    "pwd=os.getcwd()\n",
    "fname=\"./images/test1/S__2572316.jpg\"\n",
    "get_face_rect(fname)"
   ]
  },
  {
   "cell_type": "code",
   "execution_count": null,
   "id": "22983684",
   "metadata": {},
   "outputs": [],
   "source": []
  }
 ],
 "metadata": {
  "kernelspec": {
   "display_name": "Python 3 (ipykernel)",
   "language": "python",
   "name": "python3"
  },
  "language_info": {
   "codemirror_mode": {
    "name": "ipython",
    "version": 3
   },
   "file_extension": ".py",
   "mimetype": "text/x-python",
   "name": "python",
   "nbconvert_exporter": "python",
   "pygments_lexer": "ipython3",
   "version": "3.9.13"
  }
 },
 "nbformat": 4,
 "nbformat_minor": 5
}
