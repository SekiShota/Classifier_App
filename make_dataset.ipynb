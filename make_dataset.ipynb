{
 "cells": [
  {
   "cell_type": "markdown",
   "id": "80c93311",
   "metadata": {},
   "source": [
    "### 画像にラベルをつけて、データセットを作成する"
   ]
  },
  {
   "cell_type": "code",
   "execution_count": 1,
   "id": "943f9692",
   "metadata": {},
   "outputs": [
    {
     "name": "stdout",
     "output_type": "stream",
     "text": [
      "データセットの作成完了：./images/dataset.npz 0\n"
     ]
    }
   ],
   "source": [
    "#画像ファイルを読んでNumpy形式に変換\n",
    "#画像にラベルをつけて保存\n",
    "import numpy as np\n",
    "from PIL import Image\n",
    "import glob, os, random\n",
    "\n",
    "#保存ファイル名\n",
    "outfile=\"./images/dataset.npz\"\n",
    "#利用する画像枚数\n",
    "max_photo=200\n",
    "#画像サイズ\n",
    "photo_size=64\n",
    "#画像データ\n",
    "x=[]\n",
    "#ラベルデータ\n",
    "y=[]\n",
    "\n",
    "def main():\n",
    "    #各画像フォルダを読む\n",
    "    glob_files(\"./images/face0/\", 0)\n",
    "    glob_files(\"./images/face1/\", 1)\n",
    "    \n",
    "    #ファイルへ保存\n",
    "    np.savez(outfile, x=x, y=y)\n",
    "    print(\"データセットの作成完了：\"+outfile, len(x))\n",
    "    \n",
    "\n",
    "#path以下の画像を読み込む\n",
    "def glob_files(path, label):\n",
    "    #画像ファイルを読む\n",
    "    files=glob.glob(path+\"/*.jpg\")\n",
    "    random.shuffle(files)\n",
    "    \n",
    "    #各ファイルを処理\n",
    "    num=0\n",
    "    for f in files:\n",
    "        if num>=max_photo: break\n",
    "        num+=1\n",
    "        \n",
    "        #画像ファイルを読む\n",
    "        img=Image.open(f)\n",
    "        #色空間をRGB\n",
    "        img=img.convert(\"RGB\")\n",
    "        #サイズ変更\n",
    "        img=img.resize((photo_size, photo_size))\n",
    "        img=np.asarray(img)\n",
    "        img=img/255\n",
    "        x.append(img)\n",
    "        y.append(label)\n",
    "    \n",
    "if __name__=='__main__':\n",
    "    main()"
   ]
  },
  {
   "cell_type": "markdown",
   "id": "a30722c9",
   "metadata": {},
   "source": [
    "### データセットの確認"
   ]
  },
  {
   "cell_type": "code",
   "execution_count": 2,
   "id": "b9ea6248",
   "metadata": {},
   "outputs": [
    {
     "ename": "IndexError",
     "evalue": "index 0 is out of bounds for axis 0 with size 0",
     "output_type": "error",
     "traceback": [
      "\u001b[0;31m---------------------------------------------------------------------------\u001b[0m",
      "\u001b[0;31mIndexError\u001b[0m                                Traceback (most recent call last)",
      "\u001b[0;32m/var/folders/ks/17djw9_d5r3300_0z8cc33sh0000gn/T/ipykernel_66315/3473144286.py\u001b[0m in \u001b[0;36m<module>\u001b[0;34m\u001b[0m\n\u001b[1;32m     14\u001b[0m \u001b[0;32mfor\u001b[0m \u001b[0mi\u001b[0m \u001b[0;32min\u001b[0m \u001b[0mrange\u001b[0m\u001b[0;34m(\u001b[0m\u001b[0;36m25\u001b[0m\u001b[0;34m)\u001b[0m\u001b[0;34m:\u001b[0m\u001b[0;34m\u001b[0m\u001b[0;34m\u001b[0m\u001b[0m\n\u001b[1;32m     15\u001b[0m     \u001b[0mplt\u001b[0m\u001b[0;34m.\u001b[0m\u001b[0msubplot\u001b[0m\u001b[0;34m(\u001b[0m\u001b[0;36m5\u001b[0m\u001b[0;34m,\u001b[0m \u001b[0;36m5\u001b[0m\u001b[0;34m,\u001b[0m \u001b[0mi\u001b[0m\u001b[0;34m+\u001b[0m\u001b[0;36m1\u001b[0m\u001b[0;34m)\u001b[0m\u001b[0;34m\u001b[0m\u001b[0;34m\u001b[0m\u001b[0m\n\u001b[0;32m---> 16\u001b[0;31m     \u001b[0mplt\u001b[0m\u001b[0;34m.\u001b[0m\u001b[0mtitle\u001b[0m\u001b[0;34m(\u001b[0m\u001b[0my\u001b[0m\u001b[0;34m[\u001b[0m\u001b[0mi\u001b[0m\u001b[0;34m+\u001b[0m\u001b[0midx\u001b[0m\u001b[0;34m]\u001b[0m\u001b[0;34m)\u001b[0m\u001b[0;34m\u001b[0m\u001b[0;34m\u001b[0m\u001b[0m\n\u001b[0m\u001b[1;32m     17\u001b[0m     \u001b[0mplt\u001b[0m\u001b[0;34m.\u001b[0m\u001b[0maxis\u001b[0m\u001b[0;34m(\u001b[0m\u001b[0;34m'off'\u001b[0m\u001b[0;34m)\u001b[0m\u001b[0;34m\u001b[0m\u001b[0;34m\u001b[0m\u001b[0m\n\u001b[1;32m     18\u001b[0m     \u001b[0mplt\u001b[0m\u001b[0;34m.\u001b[0m\u001b[0mimshow\u001b[0m\u001b[0;34m(\u001b[0m\u001b[0mx\u001b[0m\u001b[0;34m[\u001b[0m\u001b[0mi\u001b[0m\u001b[0;34m+\u001b[0m\u001b[0midx\u001b[0m\u001b[0;34m]\u001b[0m\u001b[0;34m)\u001b[0m\u001b[0;34m\u001b[0m\u001b[0;34m\u001b[0m\u001b[0m\n",
      "\u001b[0;31mIndexError\u001b[0m: index 0 is out of bounds for axis 0 with size 0"
     ]
    },
    {
     "data": {
      "image/png": "[encoded data removed]",
      "text/plain": [
       "<Figure size 1000x1000 with 1 Axes>"
      ]
     },
     "metadata": {},
     "output_type": "display_data"
    }
   ],
   "source": [
    "#画像とそのラベルの確認\n",
    "import matplotlib.pyplot as plt\n",
    "\n",
    "#画像データ読み込み\n",
    "photos=np.load(\"./images/dataset.npz\")\n",
    "x=photos['x']\n",
    "y=photos['y']\n",
    "\n",
    "#開始インデックス\n",
    "idx=0\n",
    "\n",
    "#pyplotで出力\n",
    "plt.figure(figsize=(10,10))\n",
    "for i in range(25):\n",
    "    plt.subplot(5, 5, i+1)\n",
    "    plt.title(y[i+idx])\n",
    "    plt.axis('off')\n",
    "    plt.imshow(x[i+idx])\n",
    "plt.show()"
   ]
  },
  {
   "cell_type": "code",
   "execution_count": null,
   "id": "2e1c5ee1",
   "metadata": {},
   "outputs": [],
   "source": []
  }
 ],
 "metadata": {
  "kernelspec": {
   "display_name": "Python 3 (ipykernel)",
   "language": "python",
   "name": "python3"
  },
  "language_info": {
   "codemirror_mode": {
    "name": "ipython",
    "version": 3
   },
   "file_extension": ".py",
   "mimetype": "text/x-python",
   "name": "python",
   "nbconvert_exporter": "python",
   "pygments_lexer": "ipython3",
   "version": "3.9.13"
  }
 },
 "nbformat": 4,
 "nbformat_minor": 5
}
