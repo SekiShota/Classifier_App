{
 "cells": [
  {
   "cell_type": "markdown",
   "id": "be5bc0ae",
   "metadata": {},
   "source": [
    "### 画像を収集する"
   ]
  },
  {
   "cell_type": "code",
   "execution_count": 2,
   "id": "754c99ff",
   "metadata": {},
   "outputs": [
    {
     "name": "stdout",
     "output_type": "stream",
     "text": [
      "Collecting icrawler\n",
      "  Using cached icrawler-0.6.6-py2.py3-none-any.whl (35 kB)\n",
      "Requirement already satisfied: beautifulsoup4>=4.4.1 in /Users/Shota-0128/opt/anaconda3/lib/python3.9/site-packages (from icrawler) (4.11.1)\n",
      "Requirement already satisfied: six>=1.10.0 in /Users/Shota-0128/opt/anaconda3/lib/python3.9/site-packages (from icrawler) (1.16.0)\n",
      "Requirement already satisfied: requests>=2.9.1 in /Users/Shota-0128/opt/anaconda3/lib/python3.9/site-packages (from icrawler) (2.28.1)\n",
      "Requirement already satisfied: Pillow in /Users/Shota-0128/opt/anaconda3/lib/python3.9/site-packages (from icrawler) (9.2.0)\n",
      "Requirement already satisfied: lxml in /Users/Shota-0128/opt/anaconda3/lib/python3.9/site-packages (from icrawler) (4.9.1)\n",
      "Requirement already satisfied: soupsieve>1.2 in /Users/Shota-0128/opt/anaconda3/lib/python3.9/site-packages (from beautifulsoup4>=4.4.1->icrawler) (2.3.1)\n",
      "Requirement already satisfied: charset-normalizer<3,>=2 in /Users/Shota-0128/opt/anaconda3/lib/python3.9/site-packages (from requests>=2.9.1->icrawler) (2.0.4)\n",
      "Requirement already satisfied: urllib3<1.27,>=1.21.1 in /Users/Shota-0128/opt/anaconda3/lib/python3.9/site-packages (from requests>=2.9.1->icrawler) (1.26.11)\n",
      "Requirement already satisfied: idna<4,>=2.5 in /Users/Shota-0128/opt/anaconda3/lib/python3.9/site-packages (from requests>=2.9.1->icrawler) (3.3)\n",
      "Requirement already satisfied: certifi>=2017.4.17 in /Users/Shota-0128/opt/anaconda3/lib/python3.9/site-packages (from requests>=2.9.1->icrawler) (2022.9.24)\n",
      "Installing collected packages: icrawler\n",
      "Successfully installed icrawler-0.6.6\n"
     ]
    }
   ],
   "source": [
    "!pip install icrawler"
   ]
  },
  {
   "cell_type": "code",
   "execution_count": 3,
   "id": "28b02e49",
   "metadata": {},
   "outputs": [
    {
     "name": "stdout",
     "output_type": "stream",
     "text": [
      "./images/figure0/*.jpg: resized!\n"
     ]
    }
   ],
   "source": [
    "import numpy as np\n",
    "import pandas as pd\n",
    "import matplotlib.pyplot as plt\n",
    "\n",
    "from icrawler.builtin import BingImageCrawler\n",
    "import os\n",
    "import re\n",
    "from PIL import Image\n",
    "import glob\n",
    "\n",
    "\n",
    "# 画像を収集するメソッド\n",
    "# 引数は画像を保存するパスpath、検索ワードkeyword、収集する枚数num\n",
    "\n",
    "def scraping(path, keyword, num):\n",
    "\n",
    "    bing_crawler=BingImageCrawler(\n",
    "    downloader_threads=4,\n",
    "    storage={'root_dir': path}\n",
    "    )\n",
    "\n",
    "    #検索ワードにkeywordを入れたときに得られる画像をnum枚収集\n",
    "    bing_crawler.crawl(\n",
    "        keyword=keyword,\n",
    "        max_num=num\n",
    "    )\n",
    "    print(f'{keyword}: scraping completed!')\n",
    "\n",
    "\n",
    "#ファイルの形式はjpegなので、ファイル名には必ず拡張子.jpgがつく\n",
    "asuka_path='./images/figure0/*.jpg'\n",
    "tama_path='./images/figure1/*.jpg'\n",
    "\n",
    "keywords=['齋藤飛鳥','玉森裕太']\n",
    "num=600\n",
    "\n",
    "# scraping('./images/figure0/', keywords[0], num)\n",
    "# scraping('./images/figure1/', keywords[1], num)\n",
    "\n",
    "# \"\"\"\n",
    "# 画像をリサイズするメソッド\n",
    "# 引数は保存したいパスpath=フォルダ名+フォーマット名、変更後のサイズの幅と高さw,h\n",
    "#\n",
    "# *リサイズしたい画像はパスで指定される\n",
    "# \"\"\"\n",
    "\n",
    "def resize_image(path, w, h):\n",
    "    img_paths=glob.glob(path)\n",
    "\n",
    "    for img_path in img_paths:\n",
    "        #画像ファイルに変換\n",
    "        img=Image.open(img_path)\n",
    "        #指定したサイズでリサイズをする\n",
    "        img_resized=img.resize((w,h))\n",
    "\n",
    "        #リサイズした画像を上書き保存、同じパスを指定\n",
    "        img_resized.save(img_path)\n",
    "    print(f'{path}: resized!')\n",
    "\n",
    "#サイズは300x300で指定\n",
    "width=500\n",
    "height=500\n",
    "\n",
    "resize_image(asuka_path, width, height)\n",
    "# resize_image(tama_path, width, height)\n"
   ]
  },
  {
   "cell_type": "code",
   "execution_count": null,
   "id": "98c503f9",
   "metadata": {},
   "outputs": [],
   "source": []
  }
 ],
 "metadata": {
  "kernelspec": {
   "display_name": "Python 3 (ipykernel)",
   "language": "python",
   "name": "python3"
  },
  "language_info": {
   "codemirror_mode": {
    "name": "ipython",
    "version": 3
   },
   "file_extension": ".py",
   "mimetype": "text/x-python",
   "name": "python",
   "nbconvert_exporter": "python",
   "pygments_lexer": "ipython3",
   "version": "3.9.13"
  }
 },
 "nbformat": 4,
 "nbformat_minor": 5
}
